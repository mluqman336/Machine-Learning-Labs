{
 "cells": [
  {
   "cell_type": "markdown",
   "id": "0a1901c5",
   "metadata": {},
   "source": [
    "# Lab Task:\n",
    "\n",
    "####  Model: Build and train a custom CNN with the following structure:\n",
    "\n",
    "Conv2D(64 filters, (3×3), ReLU) → BatchNormalization → MaxPooling2D(2×2)\n",
    "\n",
    "Conv2D(128 filters, (3×3), ReLU) → BatchNormalization → MaxPooling2D(2×2)\n",
    "\n",
    "Conv2D(256 filters, (3×3), ReLU) → Dropout(0.3) → MaxPooling2D(2×2)\n",
    "\n",
    "Flatten → Dense(256, ReLU) → Dropout(0.5) → Dense(1, Sigmoid)\n",
    "\n",
    "#### Dataset: Use only two classes:\n",
    "\n",
    "from the last lab tasks\n",
    "\n",
    "#### Compile with: binary_crossentropy loss and adam optimizer.\n",
    "\n",
    "#### Train and evaluate the model."
   ]
  },
  {
   "cell_type": "code",
   "execution_count": 1,
   "id": "270a7e70",
   "metadata": {},
   "outputs": [],
   "source": [
    "from tensorflow.keras import layers\n",
    "from tensorflow.keras import models\n",
    "from tensorflow.keras import optimizers\n",
    "from tensorflow.keras.preprocessing.image import ImageDataGenerator\n",
    "from tensorflow.keras.callbacks import ModelCheckpoint\n",
    "import matplotlib.pyplot as plt\n",
    "import numpy as np\n",
    "from tensorflow.keras.models import load_model\n",
    "from sklearn.metrics import confusion_matrix, ConfusionMatrixDisplay, classification_report\n",
    "import seaborn as sns\n",
    "from tensorflow.keras import layers, models\n",
    "\n",
    "model = models.Sequential()"
   ]
  },
  {
   "cell_type": "code",
   "execution_count": 2,
   "id": "eb434679",
   "metadata": {},
   "outputs": [],
   "source": [
    "checkpoints = r'C:\\Users\\Muhammad Luqman\\Desktop\\lab-12-21jzele0444\\E1-cp-{epoch:04d}-loss{val_loss:.2f}.h5'"
   ]
  },
  {
   "cell_type": "code",
   "execution_count": 3,
   "id": "4fbf1740",
   "metadata": {},
   "outputs": [],
   "source": [
    "train_dir = r'C:\\Users\\Muhammad Luqman\\Desktop\\lab-11-21jzele0444\\computer vision\\train'\n",
    "validation_dir = r'C:\\Users\\Muhammad Luqman\\Desktop\\lab-11-21jzele0444\\computer vision\\validation'\n",
    "test_dir = r'C:\\Users\\Muhammad Luqman\\Desktop\\lab-11-21jzele0444\\computer vision\\test'"
   ]
  },
  {
   "cell_type": "code",
   "execution_count": 4,
   "id": "cae6a23e",
   "metadata": {},
   "outputs": [],
   "source": [
    "model.add(layers.Conv2D(64, (3, 3), activation='relu', input_shape=(64, 64, 3)))\n",
    "model.add(layers.BatchNormalization())\n",
    "model.add(layers.MaxPooling2D((2, 2)))\n",
    "\n",
    "model.add(layers.Conv2D(128, (3, 3), activation='relu'))\n",
    "model.add(layers.BatchNormalization())\n",
    "model.add(layers.MaxPooling2D((2, 2)))\n",
    "\n",
    "model.add(layers.Conv2D(256, (3, 3), activation='relu'))\n",
    "model.add(layers.Dropout(0.3))\n",
    "model.add(layers.MaxPooling2D((2, 2)))\n",
    "\n",
    "model.add(layers.Flatten())\n",
    "model.add(layers.Dense(256, activation='relu'))\n",
    "model.add(layers.Dropout(0.5))\n",
    "model.add(layers.Dense(1, activation='sigmoid'))\n"
   ]
  },
  {
   "cell_type": "code",
   "execution_count": 5,
   "id": "d190ea04",
   "metadata": {
    "scrolled": true
   },
   "outputs": [
    {
     "name": "stdout",
     "output_type": "stream",
     "text": [
      "Model: \"sequential\"\n",
      "_________________________________________________________________\n",
      " Layer (type)                Output Shape              Param #   \n",
      "=================================================================\n",
      " conv2d (Conv2D)             (None, 62, 62, 64)        1792      \n",
      "                                                                 \n",
      " batch_normalization (BatchN  (None, 62, 62, 64)       256       \n",
      " ormalization)                                                   \n",
      "                                                                 \n",
      " max_pooling2d (MaxPooling2D  (None, 31, 31, 64)       0         \n",
      " )                                                               \n",
      "                                                                 \n",
      " conv2d_1 (Conv2D)           (None, 29, 29, 128)       73856     \n",
      "                                                                 \n",
      " batch_normalization_1 (Batc  (None, 29, 29, 128)      512       \n",
      " hNormalization)                                                 \n",
      "                                                                 \n",
      " max_pooling2d_1 (MaxPooling  (None, 14, 14, 128)      0         \n",
      " 2D)                                                             \n",
      "                                                                 \n",
      " conv2d_2 (Conv2D)           (None, 12, 12, 256)       295168    \n",
      "                                                                 \n",
      " dropout (Dropout)           (None, 12, 12, 256)       0         \n",
      "                                                                 \n",
      " max_pooling2d_2 (MaxPooling  (None, 6, 6, 256)        0         \n",
      " 2D)                                                             \n",
      "                                                                 \n",
      " flatten (Flatten)           (None, 9216)              0         \n",
      "                                                                 \n",
      " dense (Dense)               (None, 256)               2359552   \n",
      "                                                                 \n",
      " dropout_1 (Dropout)         (None, 256)               0         \n",
      "                                                                 \n",
      " dense_1 (Dense)             (None, 1)                 257       \n",
      "                                                                 \n",
      "=================================================================\n",
      "Total params: 2,731,393\n",
      "Trainable params: 2,731,009\n",
      "Non-trainable params: 384\n",
      "_________________________________________________________________\n"
     ]
    }
   ],
   "source": [
    "model.summary()"
   ]
  },
  {
   "cell_type": "code",
   "execution_count": 6,
   "id": "dd60e7e2",
   "metadata": {},
   "outputs": [],
   "source": [
    "model.compile(loss='binary_crossentropy', optimizer=optimizers.RMSprop(1e-4), metrics=['acc'])"
   ]
  },
  {
   "cell_type": "code",
   "execution_count": 7,
   "id": "f822a467",
   "metadata": {},
   "outputs": [
    {
     "name": "stdout",
     "output_type": "stream",
     "text": [
      "Found 240 images belonging to 2 classes.\n",
      "Found 60 images belonging to 2 classes.\n"
     ]
    }
   ],
   "source": [
    "train_datagen = ImageDataGenerator(rescale=1./255)\n",
    "test_datagen = ImageDataGenerator(rescale=1./255)\n",
    "train_generator = train_datagen.flow_from_directory(train_dir, target_size=(64, 64), batch_size=32,class_mode='binary')\n",
    "validation_generator = test_datagen.flow_from_directory(validation_dir,target_size=(64, 64),batch_size=32,class_mode='binary')"
   ]
  },
  {
   "cell_type": "code",
   "execution_count": 8,
   "id": "489aca5d",
   "metadata": {},
   "outputs": [],
   "source": [
    "EpochCheckpoint = ModelCheckpoint(checkpoints,\n",
    "                             monitor=\"val_loss\",\n",
    "                             save_best_only=True, \n",
    "                             verbose=1)\n",
    "callbacks = [EpochCheckpoint]"
   ]
  },
  {
   "cell_type": "code",
   "execution_count": 9,
   "id": "ab3af5f0",
   "metadata": {
    "scrolled": true
   },
   "outputs": [
    {
     "name": "stdout",
     "output_type": "stream",
     "text": [
      "Epoch 1/30\n",
      "7/7 [==============================] - ETA: 0s - loss: 2.8385 - acc: 0.5337\n",
      "Epoch 1: val_loss improved from inf to 0.69104, saving model to C:\\Users\\Muhammad Luqman\\Desktop\\lab-12-21jzele0444\\E1-cp-0001-loss0.69.h5\n",
      "7/7 [==============================] - 6s 660ms/step - loss: 2.8385 - acc: 0.5337 - val_loss: 0.6910 - val_acc: 0.6500\n",
      "Epoch 2/30\n",
      "7/7 [==============================] - ETA: 0s - loss: 0.7270 - acc: 0.6786\n",
      "Epoch 2: val_loss improved from 0.69104 to 0.69032, saving model to C:\\Users\\Muhammad Luqman\\Desktop\\lab-12-21jzele0444\\E1-cp-0002-loss0.69.h5\n",
      "7/7 [==============================] - 5s 654ms/step - loss: 0.7270 - acc: 0.6786 - val_loss: 0.6903 - val_acc: 0.5333\n",
      "Epoch 3/30\n",
      "7/7 [==============================] - ETA: 0s - loss: 0.5115 - acc: 0.7260\n",
      "Epoch 3: val_loss did not improve from 0.69032\n",
      "7/7 [==============================] - 4s 633ms/step - loss: 0.5115 - acc: 0.7260 - val_loss: 0.6912 - val_acc: 0.5000\n",
      "Epoch 4/30\n",
      "7/7 [==============================] - ETA: 0s - loss: 0.3785 - acc: 0.8606\n",
      "Epoch 4: val_loss did not improve from 0.69032\n",
      "7/7 [==============================] - 4s 613ms/step - loss: 0.3785 - acc: 0.8606 - val_loss: 0.6921 - val_acc: 0.5000\n",
      "Epoch 5/30\n",
      "7/7 [==============================] - ETA: 0s - loss: 0.5770 - acc: 0.8029\n",
      "Epoch 5: val_loss did not improve from 0.69032\n",
      "7/7 [==============================] - 4s 589ms/step - loss: 0.5770 - acc: 0.8029 - val_loss: 0.7048 - val_acc: 0.5000\n",
      "Epoch 6/30\n",
      "7/7 [==============================] - ETA: 0s - loss: 0.3596 - acc: 0.8606\n",
      "Epoch 6: val_loss did not improve from 0.69032\n",
      "7/7 [==============================] - 4s 587ms/step - loss: 0.3596 - acc: 0.8606 - val_loss: 0.7093 - val_acc: 0.5000\n",
      "Epoch 7/30\n",
      "7/7 [==============================] - ETA: 0s - loss: 0.3013 - acc: 0.8702\n",
      "Epoch 7: val_loss did not improve from 0.69032\n",
      "7/7 [==============================] - 4s 582ms/step - loss: 0.3013 - acc: 0.8702 - val_loss: 0.7420 - val_acc: 0.5000\n",
      "Epoch 8/30\n",
      "7/7 [==============================] - ETA: 0s - loss: 0.2440 - acc: 0.9135\n",
      "Epoch 8: val_loss did not improve from 0.69032\n",
      "7/7 [==============================] - 4s 583ms/step - loss: 0.2440 - acc: 0.9135 - val_loss: 0.7719 - val_acc: 0.5000\n",
      "Epoch 9/30\n",
      "7/7 [==============================] - ETA: 0s - loss: 0.3293 - acc: 0.8413\n",
      "Epoch 9: val_loss did not improve from 0.69032\n",
      "7/7 [==============================] - 4s 588ms/step - loss: 0.3293 - acc: 0.8413 - val_loss: 0.8194 - val_acc: 0.5000\n",
      "Epoch 10/30\n",
      "7/7 [==============================] - ETA: 0s - loss: 0.1822 - acc: 0.9279\n",
      "Epoch 10: val_loss did not improve from 0.69032\n",
      "7/7 [==============================] - 4s 585ms/step - loss: 0.1822 - acc: 0.9279 - val_loss: 0.8726 - val_acc: 0.5000\n",
      "Epoch 11/30\n",
      "7/7 [==============================] - ETA: 0s - loss: 0.2009 - acc: 0.8894\n",
      "Epoch 11: val_loss did not improve from 0.69032\n",
      "7/7 [==============================] - 4s 584ms/step - loss: 0.2009 - acc: 0.8894 - val_loss: 0.9033 - val_acc: 0.5000\n",
      "Epoch 12/30\n",
      "7/7 [==============================] - ETA: 0s - loss: 0.3928 - acc: 0.8214\n",
      "Epoch 12: val_loss did not improve from 0.69032\n",
      "7/7 [==============================] - 4s 628ms/step - loss: 0.3928 - acc: 0.8214 - val_loss: 0.9857 - val_acc: 0.5000\n",
      "Epoch 13/30\n",
      "7/7 [==============================] - ETA: 0s - loss: 0.1067 - acc: 0.9760\n",
      "Epoch 13: val_loss did not improve from 0.69032\n",
      "7/7 [==============================] - 4s 581ms/step - loss: 0.1067 - acc: 0.9760 - val_loss: 1.0582 - val_acc: 0.5000\n",
      "Epoch 14/30\n",
      "7/7 [==============================] - ETA: 0s - loss: 0.0682 - acc: 0.9856\n",
      "Epoch 14: val_loss did not improve from 0.69032\n",
      "7/7 [==============================] - 4s 636ms/step - loss: 0.0682 - acc: 0.9856 - val_loss: 1.2724 - val_acc: 0.5000\n",
      "Epoch 15/30\n",
      "7/7 [==============================] - ETA: 0s - loss: 0.2343 - acc: 0.8942\n",
      "Epoch 15: val_loss did not improve from 0.69032\n",
      "7/7 [==============================] - 4s 586ms/step - loss: 0.2343 - acc: 0.8942 - val_loss: 1.2788 - val_acc: 0.5000\n",
      "Epoch 16/30\n",
      "7/7 [==============================] - ETA: 0s - loss: 0.0567 - acc: 0.9952\n",
      "Epoch 16: val_loss did not improve from 0.69032\n",
      "7/7 [==============================] - 4s 603ms/step - loss: 0.0567 - acc: 0.9952 - val_loss: 1.3899 - val_acc: 0.5000\n",
      "Epoch 17/30\n",
      "7/7 [==============================] - ETA: 0s - loss: 0.0994 - acc: 0.9663\n",
      "Epoch 17: val_loss did not improve from 0.69032\n",
      "7/7 [==============================] - 4s 638ms/step - loss: 0.0994 - acc: 0.9663 - val_loss: 1.3038 - val_acc: 0.5000\n",
      "Epoch 18/30\n",
      "7/7 [==============================] - ETA: 0s - loss: 0.1185 - acc: 0.9712\n",
      "Epoch 18: val_loss did not improve from 0.69032\n",
      "7/7 [==============================] - 4s 627ms/step - loss: 0.1185 - acc: 0.9712 - val_loss: 1.6385 - val_acc: 0.5000\n",
      "Epoch 19/30\n",
      "7/7 [==============================] - ETA: 0s - loss: 0.3531 - acc: 0.8606\n",
      "Epoch 19: val_loss did not improve from 0.69032\n",
      "7/7 [==============================] - 4s 583ms/step - loss: 0.3531 - acc: 0.8606 - val_loss: 1.7232 - val_acc: 0.5000\n",
      "Epoch 20/30\n",
      "7/7 [==============================] - ETA: 0s - loss: 0.0818 - acc: 0.9808\n",
      "Epoch 20: val_loss did not improve from 0.69032\n",
      "7/7 [==============================] - 4s 589ms/step - loss: 0.0818 - acc: 0.9808 - val_loss: 1.6415 - val_acc: 0.5000\n",
      "Epoch 21/30\n",
      "7/7 [==============================] - ETA: 0s - loss: 0.0787 - acc: 0.9808\n",
      "Epoch 21: val_loss did not improve from 0.69032\n",
      "7/7 [==============================] - 4s 603ms/step - loss: 0.0787 - acc: 0.9808 - val_loss: 1.8115 - val_acc: 0.5000\n",
      "Epoch 22/30\n",
      "7/7 [==============================] - ETA: 0s - loss: 0.0312 - acc: 0.9952\n",
      "Epoch 22: val_loss did not improve from 0.69032\n",
      "7/7 [==============================] - 4s 582ms/step - loss: 0.0312 - acc: 0.9952 - val_loss: 1.8642 - val_acc: 0.5000\n",
      "Epoch 23/30\n",
      "7/7 [==============================] - ETA: 0s - loss: 0.0235 - acc: 1.0000\n",
      "Epoch 23: val_loss did not improve from 0.69032\n",
      "7/7 [==============================] - 4s 634ms/step - loss: 0.0235 - acc: 1.0000 - val_loss: 2.1198 - val_acc: 0.5000\n",
      "Epoch 24/30\n",
      "7/7 [==============================] - ETA: 0s - loss: 0.0452 - acc: 0.9904\n",
      "Epoch 24: val_loss did not improve from 0.69032\n",
      "7/7 [==============================] - 4s 589ms/step - loss: 0.0452 - acc: 0.9904 - val_loss: 2.1396 - val_acc: 0.5000\n",
      "Epoch 25/30\n",
      "7/7 [==============================] - ETA: 0s - loss: 0.0703 - acc: 0.9808\n",
      "Epoch 25: val_loss did not improve from 0.69032\n",
      "7/7 [==============================] - 5s 709ms/step - loss: 0.0703 - acc: 0.9808 - val_loss: 2.0498 - val_acc: 0.5000\n",
      "Epoch 26/30\n",
      "7/7 [==============================] - ETA: 0s - loss: 0.0618 - acc: 0.9663\n",
      "Epoch 26: val_loss did not improve from 0.69032\n",
      "7/7 [==============================] - 5s 701ms/step - loss: 0.0618 - acc: 0.9663 - val_loss: 2.6574 - val_acc: 0.5000\n",
      "Epoch 27/30\n",
      "7/7 [==============================] - ETA: 0s - loss: 0.0889 - acc: 0.9567\n",
      "Epoch 27: val_loss did not improve from 0.69032\n",
      "7/7 [==============================] - 4s 612ms/step - loss: 0.0889 - acc: 0.9567 - val_loss: 3.1971 - val_acc: 0.5000\n",
      "Epoch 28/30\n",
      "7/7 [==============================] - ETA: 0s - loss: 0.1561 - acc: 0.9327\n",
      "Epoch 28: val_loss did not improve from 0.69032\n",
      "7/7 [==============================] - 5s 685ms/step - loss: 0.1561 - acc: 0.9327 - val_loss: 2.8703 - val_acc: 0.5000\n",
      "Epoch 29/30\n",
      "7/7 [==============================] - ETA: 0s - loss: 0.0129 - acc: 1.0000\n",
      "Epoch 29: val_loss did not improve from 0.69032\n",
      "7/7 [==============================] - 5s 662ms/step - loss: 0.0129 - acc: 1.0000 - val_loss: 2.9805 - val_acc: 0.5000\n",
      "Epoch 30/30\n",
      "7/7 [==============================] - ETA: 0s - loss: 0.0153 - acc: 1.0000\n",
      "Epoch 30: val_loss did not improve from 0.69032\n",
      "7/7 [==============================] - 4s 600ms/step - loss: 0.0153 - acc: 1.0000 - val_loss: 2.9602 - val_acc: 0.5000\n"
     ]
    }
   ],
   "source": [
    "step_size_train = train_generator.n//train_generator.batch_size\n",
    "\n",
    "model_history = model.fit(train_generator,\n",
    "                    validation_data =validation_generator,\n",
    "                   steps_per_epoch=step_size_train,\n",
    "                   epochs=30,\n",
    "                   callbacks=callbacks)\n",
    "                  "
   ]
  },
  {
   "cell_type": "code",
   "execution_count": 10,
   "id": "ac3f8f7d",
   "metadata": {
    "scrolled": true
   },
   "outputs": [
    {
     "data": {
      "text/plain": [
       "{'loss': [2.8384976387023926,\n",
       "  0.7269963622093201,\n",
       "  0.5115076899528503,\n",
       "  0.3785087764263153,\n",
       "  0.5770145058631897,\n",
       "  0.3596484065055847,\n",
       "  0.3013085126876831,\n",
       "  0.24400068819522858,\n",
       "  0.32931071519851685,\n",
       "  0.1821986734867096,\n",
       "  0.2008717954158783,\n",
       "  0.3927660584449768,\n",
       "  0.10671588033437729,\n",
       "  0.06821282207965851,\n",
       "  0.23431727290153503,\n",
       "  0.05671432986855507,\n",
       "  0.09944130480289459,\n",
       "  0.11849900335073471,\n",
       "  0.35314100980758667,\n",
       "  0.0818437859416008,\n",
       "  0.07868123054504395,\n",
       "  0.031213633716106415,\n",
       "  0.023477602750062943,\n",
       "  0.04523927718400955,\n",
       "  0.07034993916749954,\n",
       "  0.0617675855755806,\n",
       "  0.08892419934272766,\n",
       "  0.15614746510982513,\n",
       "  0.012858903966844082,\n",
       "  0.01525637973099947],\n",
       " 'acc': [0.5336538553237915,\n",
       "  0.6785714030265808,\n",
       "  0.7259615659713745,\n",
       "  0.8605769276618958,\n",
       "  0.8028846383094788,\n",
       "  0.8605769276618958,\n",
       "  0.870192289352417,\n",
       "  0.9134615659713745,\n",
       "  0.8413461446762085,\n",
       "  0.9278846383094788,\n",
       "  0.8894230723381042,\n",
       "  0.8214285969734192,\n",
       "  0.9759615659713745,\n",
       "  0.9855769276618958,\n",
       "  0.8942307829856873,\n",
       "  0.995192289352417,\n",
       "  0.9663461446762085,\n",
       "  0.9711538553237915,\n",
       "  0.8605769276618958,\n",
       "  0.9807692170143127,\n",
       "  0.9807692170143127,\n",
       "  0.995192289352417,\n",
       "  1.0,\n",
       "  0.9903846383094788,\n",
       "  0.9807692170143127,\n",
       "  0.9663461446762085,\n",
       "  0.9567307829856873,\n",
       "  0.932692289352417,\n",
       "  1.0,\n",
       "  1.0],\n",
       " 'val_loss': [0.6910434365272522,\n",
       "  0.6903178691864014,\n",
       "  0.6912433505058289,\n",
       "  0.6921272873878479,\n",
       "  0.7048412561416626,\n",
       "  0.7093204259872437,\n",
       "  0.7419949769973755,\n",
       "  0.7719454169273376,\n",
       "  0.819446861743927,\n",
       "  0.8725666403770447,\n",
       "  0.9032974243164062,\n",
       "  0.98573237657547,\n",
       "  1.0581527948379517,\n",
       "  1.2723637819290161,\n",
       "  1.278807282447815,\n",
       "  1.389949083328247,\n",
       "  1.303756594657898,\n",
       "  1.6384663581848145,\n",
       "  1.7232273817062378,\n",
       "  1.6415427923202515,\n",
       "  1.811521053314209,\n",
       "  1.864174723625183,\n",
       "  2.1197752952575684,\n",
       "  2.139573097229004,\n",
       "  2.0498058795928955,\n",
       "  2.6573638916015625,\n",
       "  3.1971004009246826,\n",
       "  2.8703150749206543,\n",
       "  2.9804599285125732,\n",
       "  2.9602060317993164],\n",
       " 'val_acc': [0.6499999761581421,\n",
       "  0.5333333611488342,\n",
       "  0.5,\n",
       "  0.5,\n",
       "  0.5,\n",
       "  0.5,\n",
       "  0.5,\n",
       "  0.5,\n",
       "  0.5,\n",
       "  0.5,\n",
       "  0.5,\n",
       "  0.5,\n",
       "  0.5,\n",
       "  0.5,\n",
       "  0.5,\n",
       "  0.5,\n",
       "  0.5,\n",
       "  0.5,\n",
       "  0.5,\n",
       "  0.5,\n",
       "  0.5,\n",
       "  0.5,\n",
       "  0.5,\n",
       "  0.5,\n",
       "  0.5,\n",
       "  0.5,\n",
       "  0.5,\n",
       "  0.5,\n",
       "  0.5,\n",
       "  0.5]}"
      ]
     },
     "execution_count": 10,
     "metadata": {},
     "output_type": "execute_result"
    }
   ],
   "source": [
    "model_history.history"
   ]
  },
  {
   "cell_type": "code",
   "execution_count": 11,
   "id": "9d22d7c0",
   "metadata": {},
   "outputs": [
    {
     "data": {
      "image/png": "[encoded data removed]",
      "text/plain": [
       "<Figure size 640x480 with 1 Axes>"
      ]
     },
     "metadata": {},
     "output_type": "display_data"
    },
    {
     "data": {
      "image/png": "[encoded data removed]",
      "text/plain": [
       "<Figure size 640x480 with 1 Axes>"
      ]
     },
     "metadata": {},
     "output_type": "display_data"
    },
    {
     "data": {
      "text/plain": [
       "<Figure size 640x480 with 0 Axes>"
      ]
     },
     "metadata": {},
     "output_type": "display_data"
    }
   ],
   "source": [
    "acc = model_history.history['acc']\n",
    "val_acc = model_history.history['val_acc']\n",
    "loss = model_history.history['loss']\n",
    "val_loss = model_history.history['val_loss']\n",
    "epochs = range(1, len(acc) + 1)\n",
    "plt.plot(epochs, acc, 'bo', label='Training acc')\n",
    "plt.plot(epochs, val_acc, 'b', label='Validation acc')\n",
    "plt.title('Training and validation accuracy')\n",
    "plt.legend()\n",
    "plt.figure()\n",
    "plt.plot(epochs, loss, 'bo', label='Training loss')\n",
    "plt.plot(epochs, val_loss, 'b', label='Validation loss')\n",
    "plt.title('Training and validation loss')\n",
    "plt.legend()\n",
    "plt.show()\n",
    "plt.savefig(r'C:\\Users\\Muhammad Luqman\\Desktop\\lab-11-21jzele0444\\model_Accuracy.png')"
   ]
  },
  {
   "cell_type": "code",
   "execution_count": 12,
   "id": "6fb6596c",
   "metadata": {},
   "outputs": [],
   "source": [
    "model.save(r'C:\\Users\\Muhammad Luqman\\Desktop\\lab-11-21jzele0444\\E1-cp-0012-loss0.21.h5')"
   ]
  },
  {
   "cell_type": "code",
   "execution_count": 13,
   "id": "4aee1b8e",
   "metadata": {},
   "outputs": [
    {
     "name": "stdout",
     "output_type": "stream",
     "text": [
      "Found 20 images belonging to 2 classes.\n",
      "1/1 [==============================] - 0s 250ms/step\n"
     ]
    },
    {
     "data": {
      "image/png": "[encoded data removed]",
      "text/plain": [
       "<Figure size 640x480 with 2 Axes>"
      ]
     },
     "metadata": {},
     "output_type": "display_data"
    }
   ],
   "source": [
    "#model = load_model(r'C:\\Users\\Administrator\\Downloads\\ML Lab\\Computer vision\\lab11\\model_lab11.h5')\n",
    "test_datagen = ImageDataGenerator(rescale=1./255)\n",
    "test_generator = test_datagen.flow_from_directory(test_dir, target_size=(64, 64), batch_size=32, shuffle=False, class_mode='binary')\n",
    "label=test_generator.labels\n",
    "preds=model.predict(test_generator)\n",
    "pred = np.argmax(preds, axis = 1)\n",
    "cm = confusion_matrix(label, pred)\n",
    "disp = ConfusionMatrixDisplay(confusion_matrix=cm,  display_labels=['Cercospora',  'northern_leaf_blight'])\n",
    "disp.plot()\n",
    "plt.show()\n",
    "#plt.savefig(r'C:\\Users\\Muhammad Luqman\\Desktop\\lab-11-21jzele0444\\confusion_matrics.jpg')"
   ]
  },
  {
   "cell_type": "code",
   "execution_count": 14,
   "id": "f3b7f769",
   "metadata": {},
   "outputs": [
    {
     "name": "stdout",
     "output_type": "stream",
     "text": [
      "                      precision    recall  f1-score   support\n",
      "\n",
      "          Cercospora       0.50      1.00      0.67        10\n",
      "northern_leaf_blight       0.00      0.00      0.00        10\n",
      "\n",
      "            accuracy                           0.50        20\n",
      "           macro avg       0.25      0.50      0.33        20\n",
      "        weighted avg       0.25      0.50      0.33        20\n",
      "\n"
     ]
    }
   ],
   "source": [
    "from sklearn.metrics import classification_report\n",
    "\n",
    "print(classification_report(label, pred, \n",
    "                            target_names=['Cercospora', 'northern_leaf_blight'], \n",
    "                            zero_division=0))\n"
   ]
  },
  {
   "cell_type": "code",
   "execution_count": null,
   "id": "9c3706e6",
   "metadata": {},
   "outputs": [],
   "source": []
  },
  {
   "cell_type": "code",
   "execution_count": null,
   "id": "fe1f38a9",
   "metadata": {},
   "outputs": [],
   "source": []
  },
  {
   "cell_type": "code",
   "execution_count": null,
   "id": "6489300e",
   "metadata": {},
   "outputs": [],
   "source": []
  },
  {
   "cell_type": "code",
   "execution_count": null,
   "id": "fe110999",
   "metadata": {},
   "outputs": [],
   "source": []
  }
 ],
 "metadata": {
  "kernelspec": {
   "display_name": "Python 3 (ipykernel)",
   "language": "python",
   "name": "python3"
  },
  "language_info": {
   "codemirror_mode": {
    "name": "ipython",
    "version": 3
   },
   "file_extension": ".py",
   "mimetype": "text/x-python",
   "name": "python",
   "nbconvert_exporter": "python",
   "pygments_lexer": "ipython3",
   "version": "3.7.16"
  }
 },
 "nbformat": 4,
 "nbformat_minor": 5
}
